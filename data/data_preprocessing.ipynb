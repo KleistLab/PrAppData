{
 "cells": [
  {
   "cell_type": "markdown",
   "id": "fbc6e319",
   "metadata": {},
   "source": [
    "# Preprocessing\n",
    "\n",
    "The original unfiltered survey data of the PrApp study is not public, which is why this notebook can't be run, but shows the participant selection and grouping of the variables "
   ]
  },
  {
   "cell_type": "code",
   "execution_count": null,
   "id": "9bef26ac",
   "metadata": {},
   "outputs": [],
   "source": [
    "import pandas as pd\n",
    "import matplotlib.pyplot as plt\n",
    "import seaborn as sns\n",
    "import numpy as np\n",
    "from tableone import TableOne\n",
    "import warnings\n",
    "warnings.simplefilter(action='ignore', category=FutureWarning)"
   ]
  },
  {
   "cell_type": "markdown",
   "id": "4057aa77",
   "metadata": {},
   "source": [
    "**Data from PrApp study (3. and 4. survey wave):**\n",
    "3,519 participants "
   ]
  },
  {
   "cell_type": "code",
   "execution_count": null,
   "id": "1e626951",
   "metadata": {},
   "outputs": [],
   "source": [
    "#   read STATA file with PrApp Data\n",
    "# all: 3,519 participants \n",
    "PrApp_data = pd.read_stata('../data/survey_data/PrApp_Welle3u4.dta')"
   ]
  },
  {
   "cell_type": "markdown",
   "id": "1799bf71",
   "metadata": {},
   "source": [
    "## Baseline summary\n",
    "for all 3,519 study participants "
   ]
  },
  {
   "cell_type": "code",
   "execution_count": 56,
   "id": "76cb940c",
   "metadata": {},
   "outputs": [
    {
     "name": "stdout",
     "output_type": "stream",
     "text": [
      "                                                                            Missing    Overall      no PrEP       current PrEP    former PrEP\n",
      "--------------------------------------------------  ----------------------  ---------  -----------  ------------  --------------  -------------\n",
      "n                                                                                      3519         2004          1392            123\n",
      "Age, n (%)                                          18-29 yrs                          874 (24.8)   570 (28.4)    277 (19.9)      27 (22.0)\n",
      "                                                    30-39 yrs                          1143 (32.5)  615 (30.7)    478 (34.3)      50 (40.7)\n",
      "                                                    40-49 yrs                          889 (25.3)   463 (23.1)    396 (28.4)      30 (24.4)\n",
      "                                                    50-80 yrs                          508 (14.4)   285 (14.2)    209 (15.0)      14 (11.4)\n",
      "                                                    None                               105 (3.0)    71 (3.5)      32 (2.3)        2 (1.6)\n",
      "Gender, n (%)                                       cis male                           3309 (94.0)  1862 (92.9)   1330 (95.5)     117 (95.1)\n",
      "                                                    cis female                         20 (0.6)     19 (0.9)      0 (0.0)         1 (0.8)\n",
      "                                                    gender diverse                     66 (1.9)     36 (1.8)      27 (1.9)        3 (2.4)\n",
      "                                                    None                               124 (3.5)    87 (4.3)      35 (2.5)        2 (1.6)\n",
      "Federal state of residence, n (%)                   Schleswig-Holstein                 42 (1.2)     28 (1.4)      12 (0.9)        2 (1.6)\n",
      "                                                    Hamburg                            138 (3.9)    66 (3.3)      69 (5.0)        3 (2.4)\n",
      "                                                    Niedersachsen                      167 (4.7)    100 (5.0)     63 (4.5)        4 (3.3)\n",
      "                                                    Bremen                             22 (0.6)     14 (0.7)      8 (0.6)         0 (0.0)\n",
      "                                                    Nordrhein-Westfalen                584 (16.6)   335 (16.7)    222 (15.9)      27 (22.0)\n",
      "                                                    Hessen                             257 (7.3)    142 (7.1)     110 (7.9)       5 (4.1)\n",
      "                                                    Rheinland-Pfalz                    106 (3.0)    58 (2.9)      46 (3.3)        2 (1.6)\n",
      "                                                    Baden-Württemberg                  302 (8.6)    212 (10.6)    77 (5.5)        13 (10.6)\n",
      "                                                    Bayern                             436 (12.4)   246 (12.3)    176 (12.6)      14 (11.4)\n",
      "                                                    Saarland                           29 (0.8)     20 (1.0)      9 (0.6)         0 (0.0)\n",
      "                                                    Berlin                             496 (14.1)   239 (11.9)    238 (17.1)      19 (15.4)\n",
      "                                                    Brandenburg                        38 (1.1)     22 (1.1)      13 (0.9)        3 (2.4)\n",
      "                                                    Mecklenburg-Vorpommern             37 (1.1)     20 (1.0)      15 (1.1)        2 (1.6)\n",
      "                                                    Sachsen                            120 (3.4)    75 (3.7)      42 (3.0)        3 (2.4)\n",
      "                                                    Sachsen-Anhalt                     34 (1.0)     28 (1.4)      6 (0.4)         0 (0.0)\n",
      "                                                    Thüringen                          38 (1.1)     32 (1.6)      6 (0.4)         0 (0.0)\n",
      "                                                    None                               673 (19.1)   367 (18.3)    280 (20.1)      26 (21.1)\n",
      "PrEP uptake, n (%)                                  no PrEP                            2004 (56.9)  2004 (100.0)  0 (0.0)         0 (0.0)\n",
      "                                                    current PrEP                       1392 (39.6)  0 (0.0)       1392 (100.0)    0 (0.0)\n",
      "                                                    former PrEP                        123 (3.5)    0 (0.0)       0 (0.0)         123 (100.0)\n",
      "Sexpartners in the last 6 months, n (%)             0                                  225 (6.4)    207 (10.3)    12 (0.9)        6 (4.9)\n",
      "                                                    1                                  349 (9.9)    305 (15.2)    32 (2.3)        12 (9.8)\n",
      "                                                    2-3                                659 (18.7)   501 (25.0)    139 (10.0)      19 (15.4)\n",
      "                                                    4-5                                552 (15.7)   331 (16.5)    202 (14.5)      19 (15.4)\n",
      "                                                    6-10                               567 (16.1)   267 (13.3)    277 (19.9)      23 (18.7)\n",
      "                                                    11-20                              362 (10.3)   116 (5.8)     232 (16.7)      14 (11.4)\n",
      "                                                    >20                                449 (12.8)   114 (5.7)     322 (23.1)      13 (10.6)\n",
      "                                                    None                               356 (10.1)   163 (8.1)     176 (12.6)      17 (13.8)\n",
      "Condom use, n (%)                                   Immer >95%                         1052 (29.9)  894 (44.6)    111 (8.0)       47 (38.2)\n",
      "                                                    Oft ca75%                          483 (13.7)   342 (17.1)    126 (9.1)       15 (12.2)\n",
      "                                                    Ca 50%                             338 (9.6)    155 (7.7)     177 (12.7)      6 (4.9)\n",
      "                                                    Manchmal ca25%                     599 (17.0)   194 (9.7)     390 (28.0)      15 (12.2)\n",
      "                                                    Nie                                619 (17.6)   228 (11.4)    373 (26.8)      18 (14.6)\n",
      "                                                    None                               428 (12.2)   191 (9.5)     215 (15.4)      22 (17.9)\n",
      "Drugs during sex in the last 6 months, n (%)        Nein                               2628 (74.7)  1583 (79.0)   965 (69.3)      80 (65.0)\n",
      "                                                    Ja                                 439 (12.5)   189 (9.4)     230 (16.5)      20 (16.3)\n",
      "                                                    None                               452 (12.8)   232 (11.6)    197 (14.2)      23 (18.7)\n",
      "Syphilis diagnosis in the last 12 months, n (%)     No                                 438 (12.4)   239 (11.9)    184 (13.2)      15 (12.2)\n",
      "                                                    None                               2877 (81.8)  1702 (84.9)   1077 (77.4)     98 (79.7)\n",
      "                                                    Yes                                204 (5.8)    63 (3.1)      131 (9.4)       10 (8.1)\n",
      "Gonorrhoea diagnosis in the last 12 months, n (%)   No                                 519 (14.7)   298 (14.9)    200 (14.4)      21 (17.1)\n",
      "                                                    None                               2591 (73.6)  1607 (80.2)   905 (65.0)      79 (64.2)\n",
      "                                                    Yes                                409 (11.6)   99 (4.9)      287 (20.6)      23 (18.7)\n",
      "Chlamydia diagnosis in the last 12 months, n (%)    No                                 377 (10.7)   207 (10.3)    150 (10.8)      20 (16.3)\n",
      "                                                    None                               2728 (77.5)  1704 (85.0)   940 (67.5)      84 (68.3)\n",
      "                                                    Yes                                414 (11.8)   93 (4.6)      302 (21.7)      19 (15.4)\n",
      "Hepatitis C diagnosis in the last 12 months, n (%)  No                                 108 (3.1)    82 (4.1)      22 (1.6)        4 (3.3)\n",
      "                                                    None                               3400 (96.6)  1917 (95.7)   1365 (98.1)     118 (95.9)\n",
      "                                                    Yes                                11 (0.3)     5 (0.2)       5 (0.4)         1 (0.8)\n"
     ]
    }
   ],
   "source": [
    "#     ------ BASELINE SUMMARY ---------------------------------------------------------------- \n",
    "#  summary of all study participants \n",
    "#  age, federal state, filter criteria for PrEP indication,\n",
    "#  gender, PrEP uptake (includes former PrEP users)\n",
    "\n",
    "summary_data = PrApp_data[['alter', 'gendersex', 'BL', 'status', \n",
    "                           'ALL_TESTSYPH_FREQ', 'ALL_TESTGO_FREQ', 'ALL_TESTCHLA_FREQ', 'ALL_TESTHCV_FREQ', \n",
    "                           'ALL_SEXPARTNER', 'ALL_KONDOM', 'ALL_DRUGS']].copy()\n",
    "\n",
    "# filter criteria (for PrEP indication) --> summarize STI diagnosis in yes / no \n",
    "summary_data['ALL_TESTSYPH_FREQ'] = pd.to_numeric(summary_data['ALL_TESTSYPH_FREQ'], errors = 'coerce')\n",
    "summary_data['POS_SYPH'] = np.where(\n",
    "    pd.isna(summary_data['ALL_TESTSYPH_FREQ']),  \n",
    "    None,                                       \n",
    "    np.where(summary_data['ALL_TESTSYPH_FREQ'] > 0.0, 'Yes', 'No'))\n",
    "\n",
    "summary_data['ALL_TESTGO_FREQ'] = pd.to_numeric(summary_data['ALL_TESTGO_FREQ'], errors = 'coerce')\n",
    "summary_data['POS_GO'] = np.where(\n",
    "    pd.isna(summary_data['ALL_TESTGO_FREQ']),  \n",
    "    None,                                       \n",
    "    np.where(summary_data['ALL_TESTGO_FREQ'] > 0.0, 'Yes', 'No'))\n",
    "\n",
    "summary_data['ALL_TESTCHLA_FREQ'] = pd.to_numeric(summary_data['ALL_TESTCHLA_FREQ'], errors = 'coerce')\n",
    "summary_data['POS_CHLA'] = np.where(\n",
    "    pd.isna(summary_data['ALL_TESTCHLA_FREQ']),  \n",
    "    None,                                       \n",
    "    np.where(summary_data['ALL_TESTCHLA_FREQ'] > 0.0, 'Yes', 'No'))\n",
    "\n",
    "summary_data['ALL_TESTHCV_FREQ'] = pd.to_numeric(summary_data['ALL_TESTHCV_FREQ'], errors = 'coerce')\n",
    "summary_data['POS_HCV'] = np.where(\n",
    "    pd.isna(summary_data['ALL_TESTHCV_FREQ']),  \n",
    "    None,                                      \n",
    "    np.where(summary_data['ALL_TESTHCV_FREQ'] > 0.0, 'Yes', 'No'))\n",
    "\n",
    "# summarize all STIs in STIs in general\n",
    "summary_data['POS_STI'] = np.where(\n",
    "    (summary_data['POS_SYPH'] == 'Yes') | \n",
    "    (summary_data['POS_GO'] == 'Yes') | \n",
    "    (summary_data['POS_CHLA'] == 'Yes') | \n",
    "    (summary_data['POS_HCV'] == 'Yes'), \n",
    "    'Yes', \n",
    "    'No')\n",
    "\n",
    "# remove non-relevant categories \n",
    "summary_data['ALL_DRUGS'] = summary_data['ALL_DRUGS'].cat.remove_categories('Kein Angabe')\n",
    "summary_data['ALL_SEXPARTNER'] = summary_data['ALL_SEXPARTNER'].cat.remove_categories('Weiß nicht')\n",
    "summary_data['ALL_KONDOM'] = summary_data['ALL_KONDOM'].cat.remove_categories('Weiß nicht')\n",
    "\n",
    "\n",
    "# summary table with TableOne\n",
    "columns_summary = ['alter', 'gendersex', 'BL', 'status', \n",
    "                   'ALL_SEXPARTNER', 'ALL_KONDOM', 'ALL_DRUGS', 'POS_SYPH', \n",
    "                   'POS_GO', 'POS_CHLA', 'POS_HCV']\n",
    "categorical_summary  = ['alter', 'gendersex', 'BL', 'status', \n",
    "                        'ALL_SEXPARTNER', 'ALL_KONDOM', 'ALL_DRUGS', \n",
    "                        'POS_SYPH', 'POS_GO', 'POS_CHLA', 'POS_HCV']\n",
    "continuous_summary = ['AGE']\n",
    "nonnormal_summary = ['AGE']\n",
    "\n",
    "rename_summary = {'alter': 'Age', 'gendersex': 'Gender', \n",
    "                  'BL': 'Federal state of residence',\n",
    "                  'status': 'PrEP uptake', \n",
    "                  'ALL_SEXPARTNER': 'Sexpartners in the last 6 months',\n",
    "                  'ALL_KONDOM': 'Condom use',\n",
    "                  'ALL_DRUGS': 'Drugs during sex in the last 6 months',\n",
    "                  'POS_SYPH': 'Syphilis diagnosis in the last 12 months', \n",
    "                  'POS_GO': 'Gonorrhoea diagnosis in the last 12 months',  \n",
    "                  'POS_CHLA': 'Chlamydia diagnosis in the last 12 months', \n",
    "                  'POS_HCV': 'Hepatitis C diagnosis in the last 12 months'}\n",
    "\n",
    "baseline_summary = TableOne(summary_data, columns = columns_summary , categorical = categorical_summary, \n",
    "                   rename = rename_summary, pval = False, groupby = \"status\")\n",
    "\n",
    "print(baseline_summary.tabulate(tablefmt = \"fancy grid\"))"
   ]
  },
  {
   "cell_type": "markdown",
   "id": "2c156321",
   "metadata": {},
   "source": [
    "## Participant selection\n",
    "\n",
    "(previous filtering)\n",
    "**visitors directed to the study website:** 566,933 (wave 3: 90,792 and wave 4: 476,141) \\\n",
    "- **did not start survey:** 563,310 (wave 3: 88,083 and wave 4: 475,277) \n",
    "\n",
    "- **started survey:** 3,623 (wave 3: 2,709 and wave 4: 914) \n",
    "\n",
    "    - **declined participation:** 42 (wave 3: 32 and wave 4: 10) \n",
    "\n",
    "    - **accepted participation (\"einwilligung\"):** 3,581 (wave 3: 2,677 and wave 4: 904) \n",
    "\n",
    "        - 62 participants excluded without PrEP uptake specification\n",
    "\n",
    "**total:** 3,519 (wave 3: 2,625 and wave 4: 894) (starting point for this filtering)"
   ]
  },
  {
   "cell_type": "code",
   "execution_count": 57,
   "id": "e9e653d1",
   "metadata": {},
   "outputs": [],
   "source": [
    "# participant selection \n",
    "def filter_and_count(data, column, criteria):\n",
    "    filtered_data = data.loc[data[column] == criteria]\n",
    "    num_participants = len(filtered_data)\n",
    "    print(f\"Participants remaining after filtering {column} for {criteria}: {num_participants}\")\n",
    "    return filtered_data"
   ]
  },
  {
   "cell_type": "code",
   "execution_count": 58,
   "id": "4a8170e4",
   "metadata": {},
   "outputs": [
    {
     "data": {
      "text/plain": [
       "welle\n",
       "3.0    2625\n",
       "4.0     894\n",
       "Name: count, dtype: int64"
      ]
     },
     "execution_count": 58,
     "metadata": {},
     "output_type": "execute_result"
    }
   ],
   "source": [
    "#     ------ DATA PRE-PROCESSING ---------------------------------------------------------------------- \n",
    "# stratified by wave in each step \n",
    "# total: wave 3: 2,625 and wave 4: 894\n",
    "PrApp_data['welle'].value_counts()"
   ]
  },
  {
   "cell_type": "markdown",
   "id": "7c67a750",
   "metadata": {},
   "source": [
    "### (1) study completion"
   ]
  },
  {
   "cell_type": "code",
   "execution_count": 59,
   "id": "1a9edf94",
   "metadata": {},
   "outputs": [
    {
     "name": "stdout",
     "output_type": "stream",
     "text": [
      "Participants remaining after filtering teiln_complete for 1.0: 2902\n"
     ]
    },
    {
     "data": {
      "text/plain": [
       "welle\n",
       "3.0    2198\n",
       "4.0     704\n",
       "Name: count, dtype: int64"
      ]
     },
     "execution_count": 59,
     "metadata": {},
     "output_type": "execute_result"
    }
   ],
   "source": [
    "# completed: 2,902 \n",
    "# completed: wave 3: 2,198 and wave 4: 704\n",
    "complete = filter_and_count(PrApp_data, 'teiln_complete', 1.0)\n",
    "complete['welle'].value_counts()"
   ]
  },
  {
   "cell_type": "code",
   "execution_count": 60,
   "id": "47a2c37d",
   "metadata": {},
   "outputs": [
    {
     "data": {
      "text/plain": [
       "welle\n",
       "3.0    427\n",
       "4.0    190\n",
       "Name: count, dtype: int64"
      ]
     },
     "execution_count": 60,
     "metadata": {},
     "output_type": "execute_result"
    }
   ],
   "source": [
    "# not completed: 617\n",
    "not_complete = PrApp_data.loc[pd.isna(PrApp_data['teiln_complete'])]\n",
    "not_complete['welle'].value_counts()"
   ]
  },
  {
   "cell_type": "markdown",
   "id": "ac445865",
   "metadata": {},
   "source": [
    "### (2) cis-male"
   ]
  },
  {
   "cell_type": "code",
   "execution_count": 61,
   "id": "dcfdbc5a",
   "metadata": {},
   "outputs": [
    {
     "name": "stdout",
     "output_type": "stream",
     "text": [
      "Participants remaining after filtering gendersex for cis male: 2828\n"
     ]
    },
    {
     "data": {
      "text/plain": [
       "welle\n",
       "3.0    2137\n",
       "4.0     691\n",
       "Name: count, dtype: int64"
      ]
     },
     "execution_count": 61,
     "metadata": {},
     "output_type": "execute_result"
    }
   ],
   "source": [
    "# completed and cis-male: 2,828\n",
    "# completed and cis-male: wave 3: 2,137 and wave 4: 691\n",
    "complete_cmale = filter_and_count(complete, 'gendersex', 'cis male')\n",
    "complete_cmale['welle'].value_counts()"
   ]
  },
  {
   "cell_type": "code",
   "execution_count": 62,
   "id": "961fb618",
   "metadata": {},
   "outputs": [
    {
     "data": {
      "text/plain": [
       "welle\n",
       "3.0    10\n",
       "4.0     2\n",
       "Name: count, dtype: int64"
      ]
     },
     "execution_count": 62,
     "metadata": {},
     "output_type": "execute_result"
    }
   ],
   "source": [
    "# completed and cis female: 12\n",
    "# completed and cis female: wave 3: 10 and wave 4: 2\n",
    "complete.loc[complete['gendersex'] == 'cis female']['welle'].value_counts()"
   ]
  },
  {
   "cell_type": "code",
   "execution_count": 63,
   "id": "28a82967",
   "metadata": {},
   "outputs": [
    {
     "data": {
      "text/plain": [
       "welle\n",
       "3.0    47\n",
       "4.0     9\n",
       "Name: count, dtype: int64"
      ]
     },
     "execution_count": 63,
     "metadata": {},
     "output_type": "execute_result"
    }
   ],
   "source": [
    "# completed and gender diverse: 56\n",
    "# completed and gender diverse: wave 3: 47 and wave 4: 9\n",
    "complete.loc[complete['gendersex'] == 'gender diverse']['welle'].value_counts()"
   ]
  },
  {
   "cell_type": "code",
   "execution_count": 64,
   "id": "d82a1f1c",
   "metadata": {},
   "outputs": [
    {
     "data": {
      "text/plain": [
       "gendersex\n",
       "cis male          2828\n",
       "gender diverse      56\n",
       "cis female          12\n",
       "NaN                  6\n",
       "Name: count, dtype: int64"
      ]
     },
     "execution_count": 64,
     "metadata": {},
     "output_type": "execute_result"
    }
   ],
   "source": [
    "# completed and NaN: 6 \n",
    "complete['gendersex'].value_counts(dropna = False)"
   ]
  },
  {
   "cell_type": "markdown",
   "id": "fb61d8ef",
   "metadata": {},
   "source": [
    "### (3) PrEP / no PrEP uptake"
   ]
  },
  {
   "cell_type": "code",
   "execution_count": 65,
   "id": "b770e5e5",
   "metadata": {},
   "outputs": [
    {
     "name": "stdout",
     "output_type": "stream",
     "text": [
      "Participants remaining after filtering status for current PrEP: 1104\n"
     ]
    },
    {
     "data": {
      "text/plain": [
       "welle\n",
       "3.0    781\n",
       "4.0    323\n",
       "Name: count, dtype: int64"
      ]
     },
     "execution_count": 65,
     "metadata": {},
     "output_type": "execute_result"
    }
   ],
   "source": [
    "# completed, cis-male and PrEP: 1,104 --> 39% of completed + cis-male\n",
    "# completed, cis-male and PrEP: wave 3: 781 and wave 4: 323\n",
    "PrEP = filter_and_count(complete_cmale, 'status', 'current PrEP')\n",
    "PrEP['welle'].value_counts()"
   ]
  },
  {
   "cell_type": "code",
   "execution_count": 66,
   "id": "d52992fb",
   "metadata": {},
   "outputs": [
    {
     "name": "stdout",
     "output_type": "stream",
     "text": [
      "Participants remaining after filtering status for no PrEP: 1628\n"
     ]
    },
    {
     "data": {
      "text/plain": [
       "welle\n",
       "3.0    1291\n",
       "4.0     337\n",
       "Name: count, dtype: int64"
      ]
     },
     "execution_count": 66,
     "metadata": {},
     "output_type": "execute_result"
    }
   ],
   "source": [
    "# completed, cis-male and no PrEP: 1,628 --> ~58% of completed + cis-male\n",
    "# completed, cis-male and no PrEP: wave 3: 1,291 and wave 4: 337\n",
    "no_PrEP = filter_and_count(complete_cmale, 'status', 'no PrEP')\n",
    "no_PrEP['welle'].value_counts()"
   ]
  },
  {
   "cell_type": "code",
   "execution_count": 67,
   "id": "3da55f0c",
   "metadata": {},
   "outputs": [
    {
     "name": "stdout",
     "output_type": "stream",
     "text": [
      "status\n",
      "no PrEP         1628\n",
      "current PrEP    1104\n",
      "former PrEP       96\n",
      "Name: count, dtype: int64\n"
     ]
    },
    {
     "data": {
      "text/plain": [
       "welle\n",
       "3.0    65\n",
       "4.0    31\n",
       "Name: count, dtype: int64"
      ]
     },
     "execution_count": 67,
     "metadata": {},
     "output_type": "execute_result"
    }
   ],
   "source": [
    "# completed, cis-male and former PrEP: 96\n",
    "# completed, cis-male and former PrEP: wave 3: 65 and wave 4: 31\n",
    "print(complete_cmale['status'].value_counts(dropna = False))\n",
    "complete_cmale.loc[complete_cmale['status'] == 'former PrEP']['welle'].value_counts()"
   ]
  },
  {
   "cell_type": "markdown",
   "id": "56d1e83b",
   "metadata": {},
   "source": [
    "### (4) exclude previous participants (wave 4)"
   ]
  },
  {
   "cell_type": "code",
   "execution_count": 68,
   "id": "c89589e8",
   "metadata": {},
   "outputs": [],
   "source": [
    "# filter out participants that have previously paricipated in study (only wave 4)\n",
    "PrEP_former_wave = pd.crosstab(PrEP['FORMER'], PrEP['welle'])          #    welle 4 + 'Ja': 43 \n",
    "no_PrEP_former_wave = pd.crosstab(no_PrEP['FORMER'], no_PrEP['welle']) #    welle 4 + 'Ja': 11\n",
    "\n",
    "no_PrEP = no_PrEP.drop(no_PrEP[((no_PrEP['FORMER'] == 'Ja') & (no_PrEP['welle'] == 4.0))].index)\n",
    "PrEP = PrEP.drop(PrEP[((PrEP['FORMER'] == 'Ja') & (PrEP['welle'] == 4.0))].index)"
   ]
  },
  {
   "cell_type": "code",
   "execution_count": 69,
   "id": "246d75d7",
   "metadata": {},
   "outputs": [
    {
     "data": {
      "text/plain": [
       "welle\n",
       "3.0    1291\n",
       "4.0     326\n",
       "Name: count, dtype: int64"
      ]
     },
     "execution_count": 69,
     "metadata": {},
     "output_type": "execute_result"
    }
   ],
   "source": [
    "# completed, cis-male and no PrEP and no previous participation: 1,617 (wave 3: 1,291 and wave 4: 326)\n",
    "no_PrEP['welle'].value_counts()"
   ]
  },
  {
   "cell_type": "code",
   "execution_count": 70,
   "id": "db66bbc6",
   "metadata": {},
   "outputs": [
    {
     "data": {
      "text/plain": [
       "welle\n",
       "3.0    781\n",
       "4.0    280\n",
       "Name: count, dtype: int64"
      ]
     },
     "execution_count": 70,
     "metadata": {},
     "output_type": "execute_result"
    }
   ],
   "source": [
    "# completed, cis-male and PrEP and no previous participation: 1,104 (wave 3: 781 and wave 4: 280)\n",
    "PrEP['welle'].value_counts()"
   ]
  },
  {
   "cell_type": "markdown",
   "id": "92f30f25",
   "metadata": {},
   "source": [
    "### (5) exclude no PrEP users which are NOT HIV-negative \n",
    "either HIV-positive or no HIV status reported"
   ]
  },
  {
   "cell_type": "code",
   "execution_count": 71,
   "id": "e87a19fb",
   "metadata": {},
   "outputs": [
    {
     "data": {
      "text/plain": [
       "welle\n",
       "3.0    1121\n",
       "4.0     299\n",
       "Name: count, dtype: int64"
      ]
     },
     "execution_count": 71,
     "metadata": {},
     "output_type": "execute_result"
    }
   ],
   "source": [
    "# filter for 'No PrEP' participants that are HIV-negative \n",
    "# completed, cis-male and no PrEP and no previous participation and HIV-negative : 1,420 (wave 3: 1,121 and wave 4: 299)\n",
    "no_PrEP_hiv_status = no_PrEP['NO_PREPGRUND_C2_w3'].value_counts(dropna=False) \n",
    "no_PrEP = no_PrEP.loc[no_PrEP['NO_PREPGRUND_C2_w3'] == 'nein'] \n",
    "no_PrEP['welle'].value_counts()"
   ]
  },
  {
   "cell_type": "markdown",
   "id": "d338dbf0",
   "metadata": {},
   "source": [
    "## Renaming, removing and grouping categories "
   ]
  },
  {
   "cell_type": "markdown",
   "id": "0900be0b",
   "metadata": {},
   "source": [
    "### removing unused and non-relevant categories"
   ]
  },
  {
   "cell_type": "code",
   "execution_count": 72,
   "id": "3d12f69a",
   "metadata": {},
   "outputs": [],
   "source": [
    "# cast values to category type + remove unused categories  \n",
    "PrEP['PREPGEBRAUCH'] = pd.Categorical(\n",
    "    PrEP['PREPGEBRAUCH'],\n",
    "    categories = PrEP['PREPGEBRAUCH'].cat.categories\n",
    ").remove_unused_categories()\n",
    "\n",
    "PrEP['CUR_PREPART'] = PrEP['CUR_PREPART'].cat.remove_categories(['Anders'])\n",
    "\n",
    "#     remove not relevant categories (either \"I don't know\" or \"Not specified\")\n",
    "columns_to_clean = ['ALL_SEXPARTNER', 'ALL_SEXFREQ', 'ALL_KONDOM', 'FORMER', 'ALL_TESTHIV', 'ALL_TESTSTI']\n",
    "for column in columns_to_clean:\n",
    "    if 'Weiß nicht' in PrEP[column].cat.categories:\n",
    "        PrEP[column] = PrEP[column].cat.remove_categories(['Weiß nicht'])\n",
    "    else: print(column)\n",
    "    if 'Weiß nicht' in no_PrEP[column].cat.categories:\n",
    "        no_PrEP[column] = no_PrEP[column].cat.remove_categories(['Weiß nicht'])\n",
    "    else: print(column)\n",
    "PrEP['CUR_SEXPARTNER_MEHR'] = PrEP['CUR_SEXPARTNER_MEHR'].cat.remove_categories(['Weiß nicht'])\n",
    "\n",
    "columns_to_clean_2 = ['ABSCHLUSS', 'ALL_DRUGS', 'ALL_SEXWORK', 'ALL_STI_SYMPTOM']\n",
    "for column_2 in columns_to_clean_2:\n",
    "    if 'Kein Angabe' in PrEP[column_2].cat.categories:\n",
    "        PrEP[column_2] = PrEP[column_2].cat.remove_categories(['Kein Angabe'])\n",
    "    else: print(column_2)\n",
    "    if 'Kein Angabe' in no_PrEP[column_2].cat.categories:\n",
    "        no_PrEP[column_2] = no_PrEP[column_2].cat.remove_categories(['Kein Angabe'])\n",
    "    else: print(column_2)\n",
    "PrEP['ALL_DRUGS_INJECT'] = PrEP['ALL_DRUGS_INJECT'].cat.remove_categories(['Keine Angabe'])\n",
    "no_PrEP['ALL_DRUGS_INJECT'] = no_PrEP['ALL_DRUGS_INJECT'].cat.remove_categories(['Keine Angabe'])\n",
    "\n",
    "PrEP['SEXLIFE'] = PrEP['SEXLIFE'].cat.remove_categories(['Ich bin mir nicht sicher'])\n",
    "no_PrEP['SEXLIFE'] = no_PrEP['SEXLIFE'].cat.remove_categories(['Ich bin mir nicht sicher'])"
   ]
  },
  {
   "cell_type": "markdown",
   "id": "b8e3d774",
   "metadata": {},
   "source": [
    "### renaming (translating) and ordering"
   ]
  },
  {
   "cell_type": "code",
   "execution_count": 73,
   "id": "268af247",
   "metadata": {},
   "outputs": [],
   "source": [
    "#     rename variables \n",
    "PrEP.rename(columns = {'SOURCE_C1_w3': 'SOURCE_Planetromeo', 'SOURCE_C2_w3':'SOURCE_Grindr', 'SOURCE_C3_w3': 'SOURCE_Hornet',\n",
    "                       'SOURCE_C4_w3': 'SOURCE_Checkpoint', 'SOURCE_C5_w3': 'SOURCE_Friends', 'SOURCE_C6_w3' : 'SOURCE_prepjetzt.de'}, inplace=True)\n",
    "no_PrEP.rename(columns = {'SOURCE_C1_w3': 'SOURCE_Planetromeo', 'SOURCE_C2_w3':'SOURCE_Grindr', 'SOURCE_C3_w3': 'SOURCE_Hornet',\n",
    "                          'SOURCE_C4_w3': 'SOURCE_Checkpoint', 'SOURCE_C5_w3': 'SOURCE_Friends', 'SOURCE_C6_w3' : 'SOURCE_prepjetzt.de'}, inplace=True)\n",
    "\n",
    "PrEP.rename(columns = {'ALL_SEXMIT_C1_w3': 'ALL_SEXWITH_MEN', 'ALL_SEXMIT_C2_w3':'ALL_SEXWITH_WOMEN', \n",
    "                       'ALL_SEXMIT_C3_w3': 'ALL_SEXWITH_NONBINARY'}, inplace = True)\n",
    "no_PrEP.rename(columns = {'ALL_SEXMIT_C1_w3': 'ALL_SEXWITH_MEN', 'ALL_SEXMIT_C2_w3':'ALL_SEXWITH_WOMEN', \n",
    "                       'ALL_SEXMIT_C3_w3': 'ALL_SEXWITH_NONBINARY'}, inplace = True)\n",
    "\n",
    "#     rename categories\n",
    "PrEP['CUR_KONDOMVORPREP'].replace(\n",
    "    {'häufiger als davor': 'more often than before', 'weiß ich nicht': 'i do not know ', 'genauso oft wie davor': 'just as often as before', 'gar nicht mehr': 'no longer at all', 'seltener als davor': 'less frequently than before'}, inplace=True)\n",
    "PrEP['PREPGEBRAUCH'].replace(\n",
    "    {'Ja, intermittierend': 'intermittent', 'Ja, täglich': 'daily'}, inplace=True)\n",
    "PrEP['CUR_PREPART'].replace(\n",
    "    {'Intermittierend': 'intermittent', 'Täglich': 'daily'}, inplace=True)\n",
    "PrEP['CUR_SEXPARTNER_MEHR'].replace(\n",
    "    {'Nein': 'No', 'Mehr Partner + Kontakte': 'More partners + contacts', 'Mehr Kontakte': 'More contacts', 'Mehr Partner': 'More partners'}, inplace=True)\n",
    "no_PrEP['NO_HIVSEX'].replace(\n",
    "    {'Nein': 'No', 'Ja': 'Yes', 'Weiß nicht': 'do not know'}, inplace=True)\n",
    "\n",
    "new_category_names = {\n",
    "    'ALL_SEXFREQ': {\n",
    "        'gar nicht': '0x'},\n",
    "    'ALL_KONDOM': {\n",
    "        'Manchmal ca25%': '25%',\n",
    "        'Nie': '0%',\n",
    "        'Ca 50%': '50%',\n",
    "        'Oft ca75%': '75%',\n",
    "        'Immer >95%': '>95%'},\n",
    "    'SEXLIFE': {\n",
    "        'Zufrieden': 'Content',\n",
    "        'Sehr zufrieden': 'Very content',\n",
    "        'Ich bin mir nicht sicher': 'Not sure',\n",
    "        'Unzufrieden': 'Discontent',\n",
    "        'Sex gerade keine Rolle': 'Sex doesnt matter right now',\n",
    "        'Sehr unzufrieden': 'Very discontent'}}\n",
    "for column, replacements in new_category_names.items():\n",
    "    PrEP[column].replace(replacements, inplace=True)\n",
    "    no_PrEP[column].replace(replacements, inplace=True)\n",
    "\n",
    "#     order categories    \n",
    "categorical_columns = ['ALL_KONDOM', 'ALL_SEXPARTNER', 'ALL_SEXFREQ']\n",
    "category_orders = {\n",
    "    'ALL_KONDOM': ['0%', '25%', '50%', '75%', '>95%'],\n",
    "    'ALL_SEXPARTNER': ['0', '1', '2-3', '4-5', '6-10', '11-20', '>20'], \n",
    "    'ALL_SEXFREQ': ['0x', '1-4x', '5-8x', '9-12x', '>12x']}\n",
    "\n",
    "for column in categorical_columns:\n",
    "    PrEP[column] = PrEP[column].astype('category')\n",
    "    PrEP[column] = PrEP[column].cat.reorder_categories(category_orders[column], ordered = True)\n",
    "    no_PrEP[column] = no_PrEP[column].astype('category')\n",
    "    no_PrEP[column] = no_PrEP[column].cat.reorder_categories(category_orders[column], ordered = True)"
   ]
  },
  {
   "cell_type": "markdown",
   "id": "4a847201",
   "metadata": {},
   "source": [
    "### Grouping \n",
    "- 'SEXLIFE': discontent (discontent and very discontent) and content (content and very content)\n",
    "- 'ABSCHLUSS_TYPE': add category 'Kein Abschluss' from 'ABSCHLUSS' \n",
    "- 'ALL_TESTSYPH_FREQ' (all STI variables): group frequency to ['0', '1', '2+']"
   ]
  },
  {
   "cell_type": "code",
   "execution_count": 74,
   "id": "3435816e",
   "metadata": {},
   "outputs": [],
   "source": [
    "# grouping \n",
    "PrEP['SEXLIFE'] = PrEP['SEXLIFE'].replace({'Very discontent': 'Discontent', 'Very content': 'Content'})\n",
    "no_PrEP['SEXLIFE'] = no_PrEP['SEXLIFE'].replace({'Very discontent': 'Discontent', 'Very content': 'Content'})\n",
    "\n",
    "\n",
    "# add 'Kein Abschluss' to 'ABSCHLUSS_TYPE'\n",
    "PrEP['ABSCHLUSS_TYPE'] = PrEP['ABSCHLUSS_TYPE'].cat.add_categories('Kein Abschluss')\n",
    "PrEP.loc[PrEP['ABSCHLUSS'] == 'Nein', 'ABSCHLUSS_TYPE'] = 'Kein Abschluss'\n",
    "no_PrEP['ABSCHLUSS_TYPE'] = no_PrEP['ABSCHLUSS_TYPE'].cat.add_categories('Kein Abschluss')\n",
    "no_PrEP.loc[no_PrEP['ABSCHLUSS'] == 'Nein', 'ABSCHLUSS_TYPE'] = 'Kein Abschluss'\n",
    "\n",
    "STI_frequency_bins = [-100, 0, 1, 100]  \n",
    "STI_frequency_labels = ['0', '1', '2+']\n",
    "PrEP['ALL_TESTSYPH_FREQ'] = pd.cut(PrEP['ALL_TESTSYPH_FREQ'], bins = STI_frequency_bins, labels = STI_frequency_labels, include_lowest = True)\n",
    "PrEP['ALL_TESTGO_FREQ'] = pd.cut(PrEP['ALL_TESTGO_FREQ'], bins = STI_frequency_bins, labels = STI_frequency_labels, include_lowest = True)\n",
    "PrEP['ALL_TESTCHLA_FREQ'] = pd.cut(PrEP['ALL_TESTCHLA_FREQ'], bins = STI_frequency_bins, labels = STI_frequency_labels, include_lowest = True)\n",
    "no_PrEP['ALL_TESTSYPH_FREQ'] = pd.cut(no_PrEP['ALL_TESTSYPH_FREQ'], bins = STI_frequency_bins, labels = STI_frequency_labels, include_lowest = True)\n",
    "no_PrEP['ALL_TESTGO_FREQ'] = pd.cut(no_PrEP['ALL_TESTGO_FREQ'], bins = STI_frequency_bins, labels = STI_frequency_labels, include_lowest = True)\n",
    "no_PrEP['ALL_TESTCHLA_FREQ'] = pd.cut(no_PrEP['ALL_TESTCHLA_FREQ'], bins = STI_frequency_bins, labels = STI_frequency_labels, include_lowest = True)"
   ]
  },
  {
   "cell_type": "markdown",
   "id": "426f9722",
   "metadata": {},
   "source": [
    "## New variables (and grouping)"
   ]
  },
  {
   "cell_type": "markdown",
   "id": "2ad36b93",
   "metadata": {},
   "source": [
    "### Monthly net-equivalent income\n",
    "from monthly net-household-income: mean of income categories \n",
    "and for highest category (5,000€+) population-weighted median income (see SOEP 2018)"
   ]
  },
  {
   "cell_type": "code",
   "execution_count": 75,
   "id": "e1153854",
   "metadata": {},
   "outputs": [
    {
     "data": {
      "image/png": "[encoded data removed]",
      "text/plain": [
       "<Figure size 650x450 with 1 Axes>"
      ]
     },
     "metadata": {},
     "output_type": "display_data"
    }
   ],
   "source": [
    "#    from monthly net-household-income: mean of income categories \n",
    "#    and for highest category (5,000€+) population-weighted median income (see SOEP 2018)\n",
    "EINKOMMEN_mapping = {'1 bis unter 1000 €': 500, '1000 bis unter 2000 €': 1499.5, '2000 bis unter 3000 €': 2499.5, \n",
    "                     '3000 bis unter 4000 €': 3499.5, '4000 bis unter 5000 €': 4499.5, '5000 € und mehr': 6260}\n",
    "PrEP['EINKOMMEN_num'] = PrEP['EINKOMMEN'].map(EINKOMMEN_mapping)\n",
    "no_PrEP['EINKOMMEN_num'] = no_PrEP['EINKOMMEN'].map(EINKOMMEN_mapping)\n",
    "PrEP['EINKOMMEN_num'] = PrEP['EINKOMMEN_num'].astype(float)\n",
    "no_PrEP['EINKOMMEN_num'] = no_PrEP['EINKOMMEN_num'].astype(float)\n",
    "\n",
    "#   Monthly net-equivalent incone = (monthly net-household-income) / sqrt(no. of people in household)\n",
    "PrEP['Netto-Äquivalenzeinkommen'] = np.where((PrEP['EINKOMMEN_num'].isna()) | (PrEP['HAUSHALT'].isna()),\n",
    "                                             np.nan,\n",
    "                                             PrEP['EINKOMMEN_num'] / (np.sqrt(PrEP['HAUSHALT'])))\n",
    "\n",
    "no_PrEP['Netto-Äquivalenzeinkommen'] = np.where((no_PrEP['EINKOMMEN_num'].isna()) | (no_PrEP['HAUSHALT'].isna()),\n",
    "                                             np.nan,\n",
    "                                             no_PrEP['EINKOMMEN_num'] / (np.sqrt(no_PrEP['HAUSHALT'])))\n",
    "\n",
    "PrEP['Netto-Äquivalenzeinkommen'] = PrEP['Netto-Äquivalenzeinkommen'].astype(float)\n",
    "no_PrEP['Netto-Äquivalenzeinkommen'] = no_PrEP['Netto-Äquivalenzeinkommen'].astype(float)\n",
    "\n",
    "plt.figure(figsize =(6.5, 4.5))  # histogram of 'numerical' monthly net-equivalent income\n",
    "sns.histplot(PrEP['Netto-Äquivalenzeinkommen'], label = 'PrEP')\n",
    "sns.histplot(no_PrEP['Netto-Äquivalenzeinkommen'], label = 'No PrEP')\n",
    "plt.title('Monthly net-equivalent income (numerical) - PrEP and No PrEP')\n",
    "plt.xlabel('Monthly net-equivalent income')\n",
    "plt.ylabel('Proportion of participants')\n",
    "plt.legend()\n",
    "plt.show()"
   ]
  },
  {
   "cell_type": "code",
   "execution_count": 76,
   "id": "051d7d3d",
   "metadata": {},
   "outputs": [
    {
     "data": {
      "image/png": "[encoded data removed]",
      "text/plain": [
       "<Figure size 650x450 with 1 Axes>"
      ]
     },
     "metadata": {},
     "output_type": "display_data"
    }
   ],
   "source": [
    "#    Grouping monthly net-equivalent income into categories (same as in monthly household-net-income)\n",
    "no_PrEP['NET_EQUIVALENT_INCOME'] = pd.cut(no_PrEP['Netto-Äquivalenzeinkommen'], \n",
    "                                          bins=[0, 1000, 2000, 3000, 4000, 5000, 6260], \n",
    "                                          labels=['1 bis <1000', '1000 bis <2000', '2000 bis <3000', \n",
    "                                                  '3000 bis <4000', '4000 bis <5000', '5000+'])\n",
    "\n",
    "PrEP['NET_EQUIVALENT_INCOME'] = pd.cut(PrEP['Netto-Äquivalenzeinkommen'], \n",
    "                                       bins=[0, 1000, 2000, 3000, 4000, 5000, 6260], \n",
    "                                       labels=['1 bis <1000', '1000 bis <2000', '2000 bis <3000', \n",
    "                                               '3000 bis <4000', '4000 bis <5000', '5000+'])\n",
    "\n",
    "\n",
    "netto_income_order = ['1 bis <1000', '1000 bis <2000', '2000 bis <3000', '3000 bis <4000', '4000 bis <5000', '5000+']\n",
    "netto_income_value_counts_PrEP = PrEP['NET_EQUIVALENT_INCOME'].value_counts(dropna=False)\n",
    "netto_income_percentages_PrEP = netto_income_value_counts_PrEP / len(PrEP['NET_EQUIVALENT_INCOME'])\n",
    "netto_income_value_counts_PrEP = netto_income_value_counts_PrEP.reindex(netto_income_order, fill_value=0)\n",
    "netto_income_percentages_PrEP = netto_income_percentages_PrEP.reindex(netto_income_order, fill_value=0)\n",
    "netto_income_value_counts_no_PrEP = no_PrEP['NET_EQUIVALENT_INCOME'].value_counts(dropna=False)\n",
    "netto_income_percentages_no_PrEP = netto_income_value_counts_no_PrEP / len(no_PrEP['NET_EQUIVALENT_INCOME'])\n",
    "netto_income_value_counts_no_PrEP = netto_income_value_counts_no_PrEP.reindex(netto_income_order, fill_value=0)\n",
    "netto_income_percentages_no_PrEP = netto_income_percentages_no_PrEP.reindex(netto_income_order, fill_value=0)\n",
    "\n",
    "netto_income_comparison = pd.DataFrame(\n",
    "    {   'netto_income_Category': netto_income_order,\n",
    "        'netto_income_Value_Count_PrEP': netto_income_value_counts_PrEP.values,\n",
    "        'netto_income_Percentage_PrEP': netto_income_percentages_PrEP.values,\n",
    "        'netto_income_Value_Count_no_PrEP': netto_income_value_counts_no_PrEP.values,\n",
    "        'netto_income_Percentage_no_PrEP': netto_income_percentages_no_PrEP.values})\n",
    "\n",
    "fig, ax = plt.subplots(figsize=(6.5, 4.5)) # horizontal bar plot grouped monthly net-equivalent income\n",
    "bars = netto_income_comparison.plot(x = 'netto_income_Category', \n",
    "                               y = ['netto_income_Percentage_PrEP', 'netto_income_Percentage_no_PrEP'], \n",
    "                               kind = 'barh', ax = ax)\n",
    "ax.set_title('Monatliches Netto-Äquivalenzeinkommen - PrEP and no PrEP')\n",
    "ax.set_xlabel('Percentage of participants')\n",
    "ax.set_ylabel('')\n",
    "plt.legend(['PrEP', 'no PrEP'])\n",
    "plt.show()"
   ]
  },
  {
   "cell_type": "markdown",
   "id": "dcd7c489",
   "metadata": {},
   "source": [
    "### Urban-rural-area (based on plz + federal state)\n",
    "**Source:**\n",
    "*Bundesinstitut für Bau-, Stadt- und Raumforschung: Laufende Raumbeobachtung des BBSR\" - Datensatz: Raumgliederungssystem des Bundesinstituts für Bau-, Stadt- und Raumforschung (BBSR) zum Gebietsstand 31.12.2022 (Stand 17.11.2023) https://www.bbsr.bund.de/BBSR/DE/forschung/raumbeobachtung/Raumabgrenzungen/downloads/download-referenzen.html;jsessionid=3AD0AAC1037806DAD285D73D93290257.live11312 Veröffentlicht unter der \"Datenlizenz Deutschland – Namensnennung – Version 2.0\"*\n",
    "\n",
    "provides categorisation of urban vs. rural for \"Siedlungsstruktureller Kreistypen\""
   ]
  },
  {
   "cell_type": "code",
   "execution_count": null,
   "id": "4782744d",
   "metadata": {},
   "outputs": [],
   "source": [
    "\n",
    "\n",
    "plz_kreiskennziffer = pd.read_excel(\n",
    "    '../data/spatial_data/raumgliederungen-administrativ.xlsx')\n",
    "\n",
    "plz_kreis_city_rural = pd.read_excel(\n",
    "    '../data/spatial_data/raumgliederungen-kreis.xlsx')"
   ]
  },
  {
   "cell_type": "code",
   "execution_count": 78,
   "id": "bb2da1ed",
   "metadata": {},
   "outputs": [
    {
     "data": {
      "text/plain": [
       "plz\n",
       "NaN    25\n",
       "Name: count, dtype: int64"
      ]
     },
     "execution_count": 78,
     "metadata": {},
     "output_type": "execute_result"
    }
   ],
   "source": [
    "#    from BSSR: use first 3 digits of postal code of the administrative seat (\"verwaltungssitz\")\n",
    "plz_kreiskennziffer['PLZ_3'] = pd.to_numeric(plz_kreiskennziffer['PLZ'], errors='coerce') // 100\n",
    "\n",
    "#    based of first 3 digits of postal code (from PrApp) --> determine administrative seat (\"verwaltungssitz\") (from BSSR)\n",
    "#    ---> based on administrative seat: determine \"Kreiskennziffer\" and \"Kreisname\" (from BSSR)\n",
    "for index, row in PrEP.iterrows():\n",
    "    plz = row['plz']\n",
    "    state = row['BL']\n",
    "    \n",
    "    # for city states assign postal code of administrative seat directly based on federal state \n",
    "    if (state == 'Berlin'):     # berlin\n",
    "        plz = 101 \n",
    "    if (state == 'Hamburg'):    # hamburg\n",
    "        plz = 200\n",
    "    if (state == 'Bremen'):     # bremen\n",
    "        plz = 281\n",
    "    \n",
    "    # places with mutliple postal codes per administrative seat (verwaltungsitz)\n",
    "    if ((plz == 509) | (plz == 511) | \n",
    "        (plz == 510) | (plz == 505) |\n",
    "        (plz == 508) | (plz == 507)): plz = 506         # köln\n",
    "    if ((plz == 604) | (plz == 605) |\n",
    "        (plz == 650) | (plz == 600) | \n",
    "        (plz == 659)): plz = 603                        # ffm\n",
    "    if ((plz == 809) | (plz == 806) | \n",
    "        (plz == 804) | (plz == 807) | \n",
    "        (plz == 802) | (plz == 812) |\n",
    "        (plz == 816) | (plz == 813) |\n",
    "        (plz == 800) | (plz == 808) |\n",
    "        (plz == 815) | (plz == 817) |\n",
    "        (plz == 818) | (plz == 819) | \n",
    "        (plz == 814) | (plz == 805)): plz = 803         # muc\n",
    "    if (plz == 477): plz = 478                          # krefeld\n",
    "    if ((plz == 471) | (plz == 472)): plz = 470         # duisburg\n",
    "    if (plz == 903): plz = 904                          # nürnberg\n",
    "    if (plz == 597): plz = 598                          # arnsberg\n",
    "    if (plz == 532): plz = 531                          # bonn\n",
    "    if (plz == 553): plz = 551                          # mainz \n",
    "    if ((plz == 453) | (plz == 452)): plz = 451         # essen\n",
    "    if ((plz == 405) | (plz == 404)): plz = 402         # düsseldorf\n",
    "    if ((plz == 43) | (plz == 40) |\n",
    "        (plz == 42)): plz = 41                          # leipzig\n",
    "    if ((plz == 443) | (plz == 440) | \n",
    "        (plz == 442)): plz = 441                        # dortmund\n",
    "    if ((plz == 421) | (plz == 423)): plz = 422         # wuppertal\n",
    "    if ((plz == 705) | (plz == 704) |\n",
    "        (plz == 703)): plz = 701                        # stuttgart\n",
    "    if ((plz == 682) | (plz == 683)): plz = 681         # mannheim\n",
    "    if ((plz == 11) | (plz == 12) |\n",
    "        (plz == 13)): plz = 10                          # dresden\n",
    "    if (plz == 461): plz = 460                          # oberhausen\n",
    "    if (plz == 448): plz = 447                          # bochum\n",
    "    if ((plz == 304) | (plz == 305) |\n",
    "        (plz == 306)): plz = 301                        # hannover\n",
    "    if (plz == 411): plz = 410                          # mönchengladbach\n",
    "\n",
    "    # participant 3-digit-postal-code matches administrative seat 3-digit-postal-code\n",
    "    if plz in plz_kreiskennziffer['PLZ_3'].values:\n",
    "        data_row = plz_kreiskennziffer.loc[plz_kreiskennziffer['PLZ_3'] == plz]\n",
    "        # from BBSR: add district code (Kreiskennziffer)\n",
    "        PrEP.at[index, 'Kreisname'] = data_row['KRS_NAME'].values[0]\n",
    "        PrEP.at[index, 'Kreiskennziffer'] = data_row['KRS2022'].values[0]\n",
    "        PrEP.at[index, 'plz_verwaltungssitz'] = data_row['PLZ'].values[0]\n",
    "\n",
    "# based on district code (\"Kreiskennziffer\") (from BSSR) --> determine urban-rural area (from BSSR)\n",
    "for index, row in PrEP.iterrows():\n",
    "    kreiskennziffer = row['Kreiskennziffer']\n",
    "    if kreiskennziffer in plz_kreis_city_rural['KRS2022'].values:\n",
    "        data_row = plz_kreis_city_rural.loc[plz_kreis_city_rural['KRS2022'] == kreiskennziffer]\n",
    "        PrEP.at[index, 'URBAN_RURAL_AREA'] = data_row['KSU_NAME'].values[0]\n",
    "        PrEP.at[index, 'SETTLEMENT_TYPE'] = data_row['KTU_NAME'].values[0]\n",
    "        \n",
    "# check for unmatched postal codes and if needed add manually \n",
    "PrEP_nan_kreisname = PrEP[PrEP['Kreisname'].apply(lambda x: pd.isna(x) or x == 'nan')]\n",
    "PrEP_nan_kreisname['plz'].value_counts(dropna = False) # 25 PrEP participants w/o plz"
   ]
  },
  {
   "cell_type": "code",
   "execution_count": 79,
   "id": "4c1e1d9e",
   "metadata": {},
   "outputs": [
    {
     "data": {
      "text/plain": [
       "plz\n",
       "NaN    55\n",
       "Name: count, dtype: int64"
      ]
     },
     "execution_count": 79,
     "metadata": {},
     "output_type": "execute_result"
    }
   ],
   "source": [
    "for index, row in no_PrEP.iterrows():\n",
    "    plz = row['plz']\n",
    "    state = row['BL']\n",
    "    if (state == 'Berlin'):     # berlin\n",
    "        plz = 101 \n",
    "    if (state == 'Hamburg'):    # hamburg\n",
    "        plz = 200\n",
    "    if (state == 'Bremen'):     # hamburg\n",
    "        plz = 281\n",
    "    if ((plz == 509) | (plz == 511) | \n",
    "        (plz == 510) |\n",
    "        (plz == 508) | (plz == 507)): plz = 506     # köln\n",
    "    if ((plz == 604) | (plz == 605) |\n",
    "        (plz == 650) | (plz == 600) |\n",
    "        (plz == 659)): plz = 603                    # ffm\n",
    "    if ((plz == 809) | (plz == 806) | \n",
    "        (plz == 804) | (plz == 807) | \n",
    "        (plz == 802) | (plz == 812) |\n",
    "        (plz == 816) | (plz == 813) |\n",
    "        (plz == 800) | (plz == 808) |\n",
    "        (plz == 815) | (plz == 817) |\n",
    "        (plz == 818) | (plz == 819)): plz = 803     # muc \n",
    "    if (plz == 477): plz = 478                      # krefeld\n",
    "    if (plz == 471): plz = 470                      # duisburg\n",
    "    if (plz == 903): plz = 904                      # nürnberg\n",
    "    if (plz == 597): plz = 598                      # arnsberg\n",
    "    if (plz == 532): plz = 531                      # bonn\n",
    "    if (plz == 553): plz = 551   # (?)              # mainz \n",
    "    if ((plz == 453) | (plz == 452)): plz = 451     # essen\n",
    "    if ((plz == 405) | (plz == 404)): plz = 402     # düsseldorf\n",
    "    if ((plz == 43) | (plz == 40)): plz = 41        # leipzig\n",
    "    if ((plz == 443) | (plz == 440) |  # 440 (?)\n",
    "        (plz == 442)): plz = 441                    # dortmund\n",
    "    if ((plz == 421) | (plz == 423)): plz = 422     # wuppertal\n",
    "    if ((plz == 705) | (plz == 704) |\n",
    "        (plz == 703)): plz = 701                    # stuttgart\n",
    "    if ((plz == 682) | (plz == 683)): plz = 681     # mannheim\n",
    "    if (plz == 11): plz = 10                        # dresden\n",
    "    if (plz == 461): plz = 460                      # oberhausen\n",
    "    if (plz == 448): plz = 447                      # bochum\n",
    "    if ((plz == 304) | (plz == 305)): plz = 301     # hannover\n",
    "    if (plz == 411): plz = 410                      # mönchengladbach\n",
    "\n",
    "    if plz in plz_kreiskennziffer['PLZ_3'].values:\n",
    "        data_row = plz_kreiskennziffer.loc[plz_kreiskennziffer['PLZ_3'] == plz]\n",
    "        no_PrEP.at[index, 'Kreisname'] = data_row['KRS_NAME'].values[0]\n",
    "        no_PrEP.at[index, 'Kreiskennziffer'] = data_row['KRS2022'].values[0]\n",
    "        no_PrEP.at[index, 'plz_verwaltungssitz'] = data_row['PLZ'].values[0]\n",
    "\n",
    "for index, row in no_PrEP.iterrows():\n",
    "    kreiskennziffer = row['Kreiskennziffer']\n",
    "    if kreiskennziffer in plz_kreis_city_rural['KRS2022'].values:\n",
    "        data_row = plz_kreis_city_rural.loc[plz_kreis_city_rural['KRS2022'] == kreiskennziffer]\n",
    "        no_PrEP.at[index, 'URBAN_RURAL_AREA'] = data_row['KSU_NAME'].values[0]\n",
    "        no_PrEP.at[index, 'SETTLEMENT_TYPE'] = data_row['KTU_NAME'].values[0]\n",
    "        \n",
    "no_PrEP_nan_kreisname = no_PrEP[no_PrEP['Kreisname'].apply(lambda x: pd.isna(x) or x == 'nan')]\n",
    "no_PrEP_nan_kreisname['plz'].value_counts(dropna = False) # 55 no PrEP participants w/o plz "
   ]
  },
  {
   "cell_type": "markdown",
   "id": "c936cd4a",
   "metadata": {},
   "source": [
    "### HIV-specialists-density (based federal state)\n",
    "HIV-specialists-density (Number of HIV-specialists/10.000 gay men) \n",
    "\n",
    "Source HIV-specialists-Density (Number of HIV-specialists/10.000 gay men): provided by Ulrich Marcus (June 2020) (dagnä website)\n"
   ]
  },
  {
   "cell_type": "code",
   "execution_count": 80,
   "id": "a9f5471d",
   "metadata": {},
   "outputs": [],
   "source": [
    "for index, row in no_PrEP.iterrows():\n",
    "    state = row['BL']\n",
    "    if (state == 'Schleswig-Holstein'):\n",
    "        no_PrEP.at[index, 'HIV_SPECIALIST_DENSITY'] = '0'\n",
    "    if ((state == 'Brandenburg') | (state == 'Mecklenburg-Vorpommern') |\n",
    "        (state == 'Rheinland-Pfalz') | (state == 'Sachsen-Anhalt') |\n",
    "        (state == 'Thüringen')): no_PrEP.at[index, 'HIV_SPECIALIST_DENSITY'] = '1-2'\n",
    "    if ((state == 'Bayern') | (state == 'Saarland') |\n",
    "        (state == 'Niedersachsen') | \n",
    "        (state == 'Sachsen')): no_PrEP.at[index, 'HIV_SPECIALIST_DENSITY'] = '3-5'\n",
    "    if ((state == 'Nordrhein-Westfalen') | (state == 'Baden-Württemberg') |\n",
    "        (state == 'Hessen')): no_PrEP.at[index, 'HIV_SPECIALIST_DENSITY'] = '6-9'\n",
    "    if ((state == 'Berlin') | (state == 'Bremen') |\n",
    "        (state == 'Hamburg')):  no_PrEP.at[index, 'HIV_SPECIALIST_DENSITY'] = '10-13'\n",
    "\n",
    "for index, row in PrEP.iterrows():\n",
    "    state = row['BL']\n",
    "    if (state == 'Schleswig-Holstein'):\n",
    "        PrEP.at[index, 'HIV_SPECIALIST_DENSITY'] = '0'\n",
    "    if ((state == 'Brandenburg') | (state == 'Mecklenburg-Vorpommern') |\n",
    "        (state == 'Rheinland-Pfalz') | (state == 'Sachsen-Anhalt') |\n",
    "        (state == 'Thüringen')): PrEP.at[index, 'HIV_SPECIALIST_DENSITY'] = '1-2'\n",
    "    if ((state == 'Bayern') | (state == 'Saarland') |\n",
    "        (state == 'Niedersachsen') | \n",
    "        (state == 'Sachsen')): PrEP.at[index, 'HIV_SPECIALIST_DENSITY'] = '3-5'\n",
    "    if ((state == 'Nordrhein-Westfalen') | (state == 'Baden-Württemberg') |\n",
    "        (state == 'Hessen')): PrEP.at[index, 'HIV_SPECIALIST_DENSITY'] = '6-9'\n",
    "    if ((state == 'Berlin') | (state == 'Bremen') |\n",
    "        (state == 'Hamburg')):  PrEP.at[index, 'HIV_SPECIALIST_DENSITY'] = '10-13'"
   ]
  },
  {
   "cell_type": "code",
   "execution_count": null,
   "id": "f4370a2d",
   "metadata": {},
   "outputs": [],
   "source": [
    "# filtered version of PrEP and non-PrEP users \n",
    "\n",
    "PrEP_filtered = PrEP[['ABSCHLUSS_TYPE', 'SEXLIFE', 'alter', 'ALL_SEXWITH_MEN',\n",
    "       'ALL_SEXWITH_WOMEN', 'ALL_SEXWITH_NONBINARY', 'ALL_SEXPARTNER',\n",
    "       'ALL_SEXFREQ', 'ALL_DRUGS', 'ALL_DRUGS_INJECT', 'ALL_SEXWORK',\n",
    "       'ALL_KONDOM', 'ALL_STI_SYMPTOM', 'ALL_TESTSTIPOS_SYPH_w3',\n",
    "       'ALL_TESTSTIPOS_GO_w3', 'ALL_TESTSTIPOS_CHLA_w3',\n",
    "       'ALL_TESTSTIPOS_HCV_w3', 'ALL_TESTSTIPOS_KEINE_w3', 'ALL_TESTSYPH_FREQ',\n",
    "       'ALL_TESTGO_FREQ', 'ALL_TESTCHLA_FREQ', 'ALL_TESTHCV_FREQ', 'landbin',\n",
    "       'NET_EQUIVALENT_INCOME', 'URBAN_RURAL_AREA', 'HIV_SPECIALIST_DENSITY', 'status', 'welle']].copy()\n",
    "\n",
    "no_PrEP_filtered = no_PrEP[['ABSCHLUSS_TYPE', 'SEXLIFE', 'alter', 'ALL_SEXWITH_MEN',\n",
    "       'ALL_SEXWITH_WOMEN', 'ALL_SEXWITH_NONBINARY', 'ALL_SEXPARTNER',\n",
    "       'ALL_SEXFREQ', 'ALL_DRUGS', 'ALL_DRUGS_INJECT', 'ALL_SEXWORK',\n",
    "       'ALL_KONDOM', 'ALL_STI_SYMPTOM', 'ALL_TESTSTIPOS_SYPH_w3',\n",
    "       'ALL_TESTSTIPOS_GO_w3', 'ALL_TESTSTIPOS_CHLA_w3',\n",
    "       'ALL_TESTSTIPOS_HCV_w3', 'ALL_TESTSTIPOS_KEINE_w3', 'ALL_TESTSYPH_FREQ',\n",
    "       'ALL_TESTGO_FREQ', 'ALL_TESTCHLA_FREQ', 'ALL_TESTHCV_FREQ', 'landbin',\n",
    "       'NET_EQUIVALENT_INCOME', 'URBAN_RURAL_AREA', 'HIV_SPECIALIST_DENSITY', 'status',\n",
    "       'NO_PREPGRUND_C1_w3','NO_PREPGRUND_C4_w3', 'NO_PREPGRUND_C6_w3', 'NO_PREPGRUND_C5_w3', 'NO_PREPGRUND_C8_w3',\n",
    "       'NO_PREPGRUND_C9_w3', 'NO_PREPGRUND_C7_w3', 'NO_PREPGRUND_C3_w3', 'welle']].copy()\n",
    "\n",
    "PrEP_filtered.to_csv('PrEP_filtered.csv') \n",
    "no_PrEP_filtered.to_csv('no_PrEP_filtered.csv') "
   ]
  },
  {
   "cell_type": "markdown",
   "id": "8b248ca0",
   "metadata": {},
   "source": [
    "## Preprocessing of all participant data for sensitivity analysis"
   ]
  },
  {
   "cell_type": "code",
   "execution_count": null,
   "id": "c8ff6849",
   "metadata": {},
   "outputs": [],
   "source": [
    "all_participants = pd.read_stata('../data/survey_data/PrApp_Welle3u4.dta')  \n",
    "\n",
    "# cleaning all participants data \n",
    "#     remove not relevant categories (either \"I don't know\" or \"Not specified\")\n",
    "columns_to_clean = ['ALL_SEXPARTNER', 'ALL_SEXFREQ', 'ALL_KONDOM', 'FORMER', 'ALL_TESTHIV', 'ALL_TESTSTI']\n",
    "for column in columns_to_clean:\n",
    "    if 'Weiß nicht' in all_participants[column].cat.categories:\n",
    "        all_participants.loc[:, column] = all_participants[column].cat.remove_categories('Weiß nicht')\n",
    "    else: print(column)\n",
    "columns_to_clean_2 = ['ABSCHLUSS', 'ALL_DRUGS', 'ALL_SEXWORK', 'ALL_STI_SYMPTOM']\n",
    "for column_2 in columns_to_clean_2:\n",
    "    if 'Kein Angabe' in all_participants[column_2].cat.categories:\n",
    "        all_participants.loc[:, column_2] = all_participants[column_2].cat.remove_categories('Kein Angabe')\n",
    "    else: print(column_2)\n",
    "    \n",
    "all_participants.loc[:, 'ALL_DRUGS_INJECT'] = all_participants['ALL_DRUGS_INJECT'].cat.remove_categories('Keine Angabe')\n",
    "all_participants.loc[:, 'SEXLIFE'] = all_participants['SEXLIFE'].cat.remove_categories('Ich bin mir nicht sicher')\n",
    "all_participants.rename(columns = {'ALL_SEXMIT_C1_w3': 'ALL_SEXWITH_MEN', 'ALL_SEXMIT_C2_w3':'ALL_SEXWITH_WOMEN', \n",
    "                       'ALL_SEXMIT_C3_w3': 'ALL_SEXWITH_NONBINARY'}, inplace = True)\n",
    "\n",
    "new_category_names = {\n",
    "    'ALL_SEXFREQ': {\n",
    "        'gar nicht': '0x'},\n",
    "    'ALL_KONDOM': {\n",
    "        'Manchmal ca25%': '25%',\n",
    "        'Nie': '0%',\n",
    "        'Ca 50%': '50%',\n",
    "        'Oft ca75%': '75%',\n",
    "        'Immer >95%': '>95%'},\n",
    "    'SEXLIFE': {\n",
    "        'Zufrieden': 'Content',\n",
    "        'Sehr zufrieden': 'Very content',\n",
    "        'Ich bin mir nicht sicher': 'Not sure',\n",
    "        'Unzufrieden': 'Discontent',\n",
    "        'Sex gerade keine Rolle': 'Sex doesnt matter right now',\n",
    "        'Sehr unzufrieden': 'Very discontent'}}\n",
    "for column, replacements in new_category_names.items():\n",
    "    all_participants[column].replace(replacements, inplace=True)\n",
    "    \n",
    "# grouping \n",
    "all_participants['SEXLIFE'] = all_participants['SEXLIFE'].replace({'Very discontent': 'Discontent', 'Very content': 'Content'})\n",
    "\n",
    "# add 'Kein Abschluss' to 'ABSCHLUSS_TYPE'\n",
    "all_participants['ABSCHLUSS_TYPE'] = all_participants['ABSCHLUSS_TYPE'].cat.add_categories('Kein Abschluss')\n",
    "all_participants.loc[all_participants['ABSCHLUSS'] == 'Nein', 'ABSCHLUSS_TYPE'] = 'Kein Abschluss'\n",
    "\n",
    "STI_frequency_bins = [-100, 0, 1, 100]  \n",
    "STI_frequency_labels = ['0', '1', '2+']\n",
    "all_participants['ALL_TESTSYPH_FREQ'] = pd.cut(all_participants['ALL_TESTSYPH_FREQ'], bins = STI_frequency_bins, labels = STI_frequency_labels, include_lowest = True)\n",
    "all_participants['ALL_TESTGO_FREQ'] = pd.cut(all_participants['ALL_TESTGO_FREQ'], bins = STI_frequency_bins, labels = STI_frequency_labels, include_lowest = True)\n",
    "all_participants['ALL_TESTCHLA_FREQ'] = pd.cut(all_participants['ALL_TESTCHLA_FREQ'], bins = STI_frequency_bins, labels = STI_frequency_labels, include_lowest = True)\n",
    "\n",
    "EINKOMMEN_mapping= {'1 bis unter 1000 €': 500, '1000 bis unter 2000 €': 1499.5, '2000 bis unter 3000 €': 2499.5, \n",
    "                     '3000 bis unter 4000 €': 3499.5, '4000 bis unter 5000 €': 4499.5, '5000 € und mehr': 6260}\n",
    "all_participants['EINKOMMEN_num'] = all_participants['EINKOMMEN'].map(EINKOMMEN_mapping)\n",
    "all_participants['EINKOMMEN_num'] = all_participants['EINKOMMEN_num'].astype(float)\n",
    "\n",
    "#   Monthly net-equivalent incone = (monthly net-household-income) / sqrt(no. of people in household)\n",
    "all_participants['Netto-Äquivalenzeinkommen'] = np.where((all_participants['EINKOMMEN_num'].isna()) | (all_participants['HAUSHALT'].isna()),\n",
    "                                             np.nan,\n",
    "                                             all_participants['EINKOMMEN_num'] / (np.sqrt(all_participants['HAUSHALT'])))\n",
    "\n",
    "all_participants['Netto-Äquivalenzeinkommen'] = all_participants['Netto-Äquivalenzeinkommen'].astype(float)\n",
    "\n",
    "all_participants['NET_EQUIVALENT_INCOME'] = pd.cut(all_participants['Netto-Äquivalenzeinkommen'], \n",
    "                                       bins=[0, 1000, 2000, 3000, 4000, 5000, 6260], \n",
    "                                       labels=['1 bis <1000', '1000 bis <2000', '2000 bis <3000', \n",
    "                                               '3000 bis <4000', '4000 bis <5000', '5000+'])\n",
    "\n",
    "# Source:\n",
    "# Bundesinstitut für Bau-, Stadt- und Raumforschung: Laufende Raumbeobachtung des BBSR\" - \n",
    "# Datensatz: Raumgliederungssystem des Bundesinstituts für Bau-, Stadt- und Raumforschung (BBSR) zum Gebietsstand 31.12.2022 (Stand 17.11.2023) \n",
    "# https://www.bbsr.bund.de/BBSR/DE/forschung/raumbeobachtung/Raumabgrenzungen/downloads/download-referenzen.html;jsessionid=3AD0AAC1037806DAD285D73D93290257.live11312 \n",
    "# Veröffentlicht unter der \"Datenlizenz Deutschland – Namensnennung – Version 2.0\"\n",
    "\n",
    "plz_kreiskennziffer = pd.read_excel(\n",
    "    '../data/spatial_data/raumgliederungen-administrativ.xlsx')\n",
    "\n",
    "plz_kreis_city_rural = pd.read_excel(\n",
    "    '../data/spatial_data/raumgliederungen-kreis.xlsx')\n",
    "\n",
    "\n",
    "#    from BSSR: use first 3 digits of postal code of the administrative seat (\"verwaltungssitz\")\n",
    "plz_kreiskennziffer['PLZ_3'] = pd.to_numeric(plz_kreiskennziffer['PLZ'], errors='coerce') // 100\n",
    "\n",
    "for index, row in all_participants.iterrows():\n",
    "    plz = row['plz']\n",
    "    state = row['BL']\n",
    "    \n",
    "    # for city states assign postal code of administrative seat directly based on federal state \n",
    "    if (state == 'Berlin'):     # berlin\n",
    "        plz = 101 \n",
    "    if (state == 'Hamburg'):    # hamburg\n",
    "        plz = 200\n",
    "    if (state == 'Bremen'):     # bremen\n",
    "        plz = 281\n",
    "    \n",
    "    # places with mutliple postal codes per administrative seat (verwaltungsitz)\n",
    "    if ((plz == 509) | (plz == 511) | \n",
    "        (plz == 510) | (plz == 505) |\n",
    "        (plz == 508) | (plz == 507)): plz = 506         # köln\n",
    "    if ((plz == 604) | (plz == 605) |\n",
    "        (plz == 650) | (plz == 600) | \n",
    "        (plz == 659)): plz = 603                        # ffm\n",
    "    if ((plz == 809) | (plz == 806) | \n",
    "        (plz == 804) | (plz == 807) | \n",
    "        (plz == 802) | (plz == 812) |\n",
    "        (plz == 816) | (plz == 813) |\n",
    "        (plz == 800) | (plz == 808) |\n",
    "        (plz == 815) | (plz == 817) |\n",
    "        (plz == 818) | (plz == 819) | \n",
    "        (plz == 814) | (plz == 805)): plz = 803         # muc\n",
    "    if (plz == 477): plz = 478                          # krefeld\n",
    "    if ((plz == 471) | (plz == 472)): plz = 470         # duisburg\n",
    "    if ((plz == 903)| (plz == 901)): plz = 904                             # nürnberg\n",
    "    if (plz == 597): plz = 598                          # arnsberg\n",
    "    if (plz == 532): plz = 531                          # bonn\n",
    "    if (plz == 553): plz = 551                          # mainz \n",
    "    if ((plz == 453) | (plz == 452)): plz = 451         # essen\n",
    "    if ((plz == 405) | (plz == 404)): plz = 402         # düsseldorf\n",
    "    if ((plz == 43) | (plz == 40) |\n",
    "        (plz == 42)): plz = 41                          # leipzig\n",
    "    if ((plz == 443) | (plz == 440) | \n",
    "        (plz == 442)): plz = 441                        # dortmund\n",
    "    if ((plz == 421) | (plz == 423)): plz = 422         # wuppertal\n",
    "    if ((plz == 705) | (plz == 704) |\n",
    "        (plz == 703)): plz = 701                        # stuttgart\n",
    "    if ((plz == 682) | (plz == 683)): plz = 681         # mannheim\n",
    "    if ((plz == 11) | (plz == 12) |\n",
    "        (plz == 13)): plz = 10                          # dresden\n",
    "    if (plz == 461): plz = 460                          # oberhausen\n",
    "    if (plz == 448): plz = 447                          # bochum\n",
    "    if ((plz == 304) | (plz == 305) |\n",
    "        (plz == 306)): plz = 301                        # hannover\n",
    "    if (plz == 411): plz = 410                          # mönchengladbach\n",
    "\n",
    "    # participant 3-digit-postal-code matches administrative seat 3-digit-postal-code\n",
    "    if plz in plz_kreiskennziffer['PLZ_3'].values:\n",
    "        data_row = plz_kreiskennziffer.loc[plz_kreiskennziffer['PLZ_3'] == plz]\n",
    "        # from BBSR: add district code (Kreiskennziffer)\n",
    "        all_participants.at[index, 'Kreisname'] = data_row['KRS_NAME'].values[0]\n",
    "        all_participants.at[index, 'Kreiskennziffer'] = data_row['KRS2022'].values[0]\n",
    "        all_participants.at[index, 'plz_verwaltungssitz'] = data_row['PLZ'].values[0]\n",
    "\n",
    "# based on district code (\"Kreiskennziffer\") (from BSSR) --> determine urban-rural area (from BSSR)\n",
    "for index, row in all_participants.iterrows():\n",
    "    kreiskennziffer = row['Kreiskennziffer']\n",
    "    if kreiskennziffer in plz_kreis_city_rural['KRS2022'].values:\n",
    "        data_row = plz_kreis_city_rural.loc[plz_kreis_city_rural['KRS2022'] == kreiskennziffer]\n",
    "        all_participants.at[index, 'URBAN_RURAL_AREA'] = data_row['KSU_NAME'].values[0]\n",
    "        all_participants.at[index, 'SETTLEMENT_TYPE'] = data_row['KTU_NAME'].values[0]\n",
    "        \n",
    "# check for unmatched postal codes and if needed add manually \n",
    "all_participants_nan_kreisname = all_participants[all_participants['Kreisname'].apply(lambda x: pd.isna(x) or x == 'nan')]\n",
    "all_participants_nan_kreisname['plz'].value_counts(dropna = False) \n",
    "\n",
    "\n",
    "for index, row in all_participants.iterrows():\n",
    "    state = row['BL']\n",
    "    if (state == 'Schleswig-Holstein'):\n",
    "        all_participants.at[index, 'HIV_SPECIALIST_DENSITY'] = '0'\n",
    "    if ((state == 'Brandenburg') | (state == 'Mecklenburg-Vorpommern') |\n",
    "        (state == 'Rheinland-Pfalz') | (state == 'Sachsen-Anhalt') |\n",
    "        (state == 'Thüringen')): all_participants.at[index, 'HIV_SPECIALIST_DENSITY'] = '1-2'\n",
    "    if ((state == 'Bayern') | (state == 'Saarland') |\n",
    "        (state == 'Niedersachsen') | \n",
    "        (state == 'Sachsen')): all_participants.at[index, 'HIV_SPECIALIST_DENSITY'] = '3-5'\n",
    "    if ((state == 'Nordrhein-Westfalen') | (state == 'Baden-Württemberg') |\n",
    "        (state == 'Hessen')): all_participants.at[index, 'HIV_SPECIALIST_DENSITY'] = '6-9'\n",
    "    if ((state == 'Berlin') | (state == 'Bremen') |\n",
    "        (state == 'Hamburg')):  all_participants.at[index, 'HIV_SPECIALIST_DENSITY'] = '10-13'"
   ]
  },
  {
   "cell_type": "code",
   "execution_count": null,
   "id": "92a8c210",
   "metadata": {},
   "outputs": [],
   "source": [
    "#    filtered version of all participants\n",
    "all_participants_filtered = all_participants[['ABSCHLUSS_TYPE', 'SEXLIFE', 'alter', 'ALL_SEXWITH_MEN',\n",
    "                                              'ALL_SEXWITH_WOMEN', 'ALL_SEXWITH_NONBINARY', 'ALL_SEXPARTNER',\n",
    "                                              'ALL_SEXFREQ', 'ALL_DRUGS', 'ALL_DRUGS_INJECT', 'ALL_SEXWORK',\n",
    "                                              'ALL_KONDOM', 'ALL_STI_SYMPTOM', 'ALL_TESTSTIPOS_SYPH_w3',\n",
    "                                              'ALL_TESTSTIPOS_GO_w3', 'ALL_TESTSTIPOS_CHLA_w3',\n",
    "                                              'ALL_TESTSTIPOS_HCV_w3', 'ALL_TESTSTIPOS_KEINE_w3', 'ALL_TESTSYPH_FREQ',\n",
    "                                              'ALL_TESTGO_FREQ', 'ALL_TESTCHLA_FREQ', 'ALL_TESTHCV_FREQ', 'landbin',\n",
    "                                              'NET_EQUIVALENT_INCOME', 'URBAN_RURAL_AREA',\n",
    "                                              'HIV_SPECIALIST_DENSITY', 'AGE', 'status', 'gendersex']].copy()\n",
    "all_participants_filtered.to_csv('all_participants_filtered.csv', index = True)"
   ]
  }
 ],
 "metadata": {
  "kernelspec": {
   "display_name": ".venv",
   "language": "python",
   "name": "python3"
  },
  "language_info": {
   "codemirror_mode": {
    "name": "ipython",
    "version": 3
   },
   "file_extension": ".py",
   "mimetype": "text/x-python",
   "name": "python",
   "nbconvert_exporter": "python",
   "pygments_lexer": "ipython3",
   "version": "3.13.1"
  }
 },
 "nbformat": 4,
 "nbformat_minor": 5
}
